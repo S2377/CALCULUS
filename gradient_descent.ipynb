{
  "nbformat": 4,
  "nbformat_minor": 0,
  "metadata": {
    "colab": {
      "provenance": [],
      "authorship_tag": "ABX9TyPqvimuL+FfQxhoATWPwtYa",
      "include_colab_link": true
    },
    "kernelspec": {
      "name": "python3",
      "display_name": "Python 3"
    },
    "language_info": {
      "name": "python"
    }
  },
  "cells": [
    {
      "cell_type": "markdown",
      "metadata": {
        "id": "view-in-github",
        "colab_type": "text"
      },
      "source": [
        "<a href=\"https://colab.research.google.com/github/S2377/CALCULUS/blob/master/gradient_descent.ipynb\" target=\"_parent\"><img src=\"https://colab.research.google.com/assets/colab-badge.svg\" alt=\"Open In Colab\"/></a>"
      ]
    },
    {
      "cell_type": "markdown",
      "source": [
        "$$ GRADIENT \\quad DESCENT $$\n",
        "This tutorial is about gradient decent method which is a optimization process used in machine learning.The expression involved in this optimization process is given below -\n",
        "$$θ = θ - α\\cdot ∇f(θ) $$\n",
        ">$* \\quad θ$ represents the vector of parameters of model.\n",
        "\n",
        "> $* \\quad α$ is learning rate.\n",
        "\n",
        "> $* \\quad f(θ)$ represents the gradient of the cost function.\n",
        "\n",
        "\n",
        "\n",
        "\n",
        " gradient descent for sin(x):\n",
        "$$f(x) = sin(x)$$\n",
        "For this function in one variable gradient descent will updated as follows:\n",
        "$$x_{n+1} = x_{n} - \\alpha \\frac{\\partial f}{\\partial x}$$\n",
        "\n",
        "\n",
        "> $* \\quad x_{n}$ is starting guess point.\n",
        "\n"
      ],
      "metadata": {
        "id": "BEDfgD4B0O_Q"
      }
    },
    {
      "cell_type": "code",
      "execution_count": 19,
      "metadata": {
        "id": "IYYiHrsh0NBB"
      },
      "outputs": [],
      "source": [
        "# imported required modules and pacakages \n",
        "import autograd.numpy as np\n",
        "from autograd import grad as g\n",
        "import math\n"
      ]
    },
    {
      "cell_type": "code",
      "source": [
        "# calculating differentiation of function.\n",
        "def sin_fun(x):\n",
        "    '''\n",
        "    Return: sin function.\n",
        "\n",
        "    Parameter x:  argument given to function.\n",
        "    Precondition: can be any argument.\n",
        "    '''\n",
        "    return np.sin(x)\n",
        "gradient = g(sin_fun)"
      ],
      "metadata": {
        "id": "fKNZfiGugzw7"
      },
      "execution_count": 20,
      "outputs": []
    },
    {
      "cell_type": "code",
      "source": [
        "# calculating minima.\n",
        "x_n = 1.0             # initially randomly choosen point.\n",
        "alpha = 1                  # learnig rate.\n",
        "value = True\n",
        "while value:\n",
        "    if gradient(x_n) > 0:\n",
        "        xN = x_n - alpha * gradient(x_n)\n",
        "        x_n -= alpha\n",
        "    if gradient(x_n) < 0:           #  stop the iterative as the  dradient become negative.\n",
        "        break\n",
        "print(xN/np.pi)         # Giving value of minima in radian."
      ],
      "metadata": {
        "colab": {
          "base_uri": "https://localhost:8080/"
        },
        "id": "xK8TXd8qhluQ",
        "outputId": "43b67746-ae09-4bdc-b05d-cd9601d6ddd6"
      },
      "execution_count": 21,
      "outputs": [
        {
          "output_type": "stream",
          "name": "stdout",
          "text": [
            "-0.49029345166951793\n"
          ]
        }
      ]
    },
    {
      "cell_type": "markdown",
      "source": [
        "#for x**2"
      ],
      "metadata": {
        "id": "-JkSsXytp5YB"
      }
    },
    {
      "cell_type": "code",
      "source": [
        "# Defining function.\n",
        "def square(x):\n",
        "    '''\n",
        "    Return: x ** 2 function.\n",
        "\n",
        "    Parameter x:  argument given to function.\n",
        "    Precondition: can be any argument.\n",
        "    '''\n",
        "    return x ** 2\n",
        "gradient = g(square)"
      ],
      "metadata": {
        "id": "lllmLBvRj36T"
      },
      "execution_count": 22,
      "outputs": []
    },
    {
      "cell_type": "code",
      "source": [
        "# calculating minima.\n",
        "x_n = 90.0             # initially randomly choosen point.\n",
        "alpha = 0.001                  # learning rate.\n",
        "value = True\n",
        "while value:\n",
        "    if gradient(x_n) > 0:\n",
        "        xN = x_n - alpha * gradient(x_n)\n",
        "        x_n -= alpha\n",
        "    if gradient(x_n) < 0:           # stop iteration as gradient become negative\n",
        "        break\n",
        "print(xN)         # Giving value of minima."
      ],
      "metadata": {
        "colab": {
          "base_uri": "https://localhost:8080/"
        },
        "id": "7j1QgtRvj8Kg",
        "outputId": "8a4189f7-1f51-4fcb-a743-86f2736a4471"
      },
      "execution_count": 24,
      "outputs": [
        {
          "output_type": "stream",
          "name": "stdout",
          "text": [
            "0.0009979999344420427\n"
          ]
        }
      ]
    },
    {
      "cell_type": "markdown",
      "source": [
        "# for x**2 + y**2"
      ],
      "metadata": {
        "id": "83eM6uhMvvDy"
      }
    },
    {
      "cell_type": "code",
      "source": [
        "# Defining functions.\n",
        "def function(X):\n",
        "    '''\n",
        "    Return: x ** 2 + y ** 2 function.\n",
        "\n",
        "    Parameter X:  argument given to function.\n",
        "    Precondition: can be  any argument.\n",
        "    '''\n",
        "    x, y = X\n",
        "    return x ** 2 + y ** 2\n",
        "gradient = g(function)"
      ],
      "metadata": {
        "id": "fitOqbhLkjPI"
      },
      "execution_count": 12,
      "outputs": []
    },
    {
      "cell_type": "code",
      "source": [
        "# calculating minima.\n",
        "x_n = [float(input(f\"enter value {i} start with:\")) for i in range(1, 3)]             # initially randomly choosen point.\n",
        "alpha = 0.001                # learning factor.\n",
        "previous = (0.0, 0.0)   # accumulator to keep previous values track\n",
        "value = True\n",
        "while value:\n",
        "    x_n[0] = x_n[0] - alpha*(gradient(x_n)[0]) # gradient decent for first variable\n",
        "    x_n[1] = x_n[1] - alpha*(gradient(x_n)[1]) # gradient decent for second variable\n",
        "    if abs(gradient(x_n)[0] - gradient(previous)[0])<0.0001 and abs(gradient(x_n)[1] - gradient(previous)[1])<0.0001:\n",
        "        value = False\n",
        "        print(x_n)\n",
        "    previous = x_n.copy()    # avoiding loss of values"
      ],
      "metadata": {
        "colab": {
          "base_uri": "https://localhost:8080/"
        },
        "id": "xoIwUN7vkrP6",
        "outputId": "7823436a-90b2-4ae9-bdb1-c8d499b639f8"
      },
      "execution_count": 15,
      "outputs": [
        {
          "output_type": "stream",
          "name": "stdout",
          "text": [
            "enter value 1 start with:10\n",
            "enter value 2 start with:20\n",
            "[0.012474062043637038, 0.024948124087274075]\n"
          ]
        }
      ]
    }
  ]
}