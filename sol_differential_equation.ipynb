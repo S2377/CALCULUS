{
  "nbformat": 4,
  "nbformat_minor": 0,
  "metadata": {
    "colab": {
      "provenance": [],
      "authorship_tag": "ABX9TyOVTw+W3xlQMAUUGMtYPRmZ",
      "include_colab_link": true
    },
    "kernelspec": {
      "name": "python3",
      "display_name": "Python 3"
    },
    "language_info": {
      "name": "python"
    }
  },
  "cells": [
    {
      "cell_type": "markdown",
      "metadata": {
        "id": "view-in-github",
        "colab_type": "text"
      },
      "source": [
        "<a href=\"https://colab.research.google.com/github/S2377/CALCULUS/blob/master/sol_differential_equation.ipynb\" target=\"_parent\"><img src=\"https://colab.research.google.com/assets/colab-badge.svg\" alt=\"Open In Colab\"/></a>"
      ]
    },
    {
      "cell_type": "code",
      "execution_count": null,
      "metadata": {
        "id": "Bam3vV0eNRld"
      },
      "outputs": [],
      "source": [
        "import plotly.express as px\n",
        "import math\n",
        "import plotly.graph_objects as go\n",
        "import numpy as np\n",
        "import matplotlib.pyplot as plt\n"
      ]
    },
    {
      "cell_type": "code",
      "source": [
        "# analitical sol for x(t) = e**t\n",
        "lst_t = []\n",
        "for i in range(51):\n",
        "  lst_t.append(i/10)\n",
        "lst_x = []  \n",
        "for i in lst_t:\n",
        "  lst_x.append(math.exp(i))\n",
        "\n",
        "# Command for plotting graph\n",
        "#fig = px.line(x=lst_t,y=lst_x)\n",
        "#fig.show()\n",
        "plt.plot(lst_t,lst_x)\n",
        "\n",
        "\n"
      ],
      "metadata": {
        "id": "dyIXw6tdOvy5"
      },
      "execution_count": null,
      "outputs": []
    },
    {
      "cell_type": "code",
      "source": [
        "# Numerical solution(Eulers method)\n",
        "lst_t_e = []\n",
        "lst_x_e= []\n",
        "x_hat = 1\n",
        "t = 0.0\n",
        "while t < 5:\n",
        "  lst_t_e.append(t)\n",
        "  x_hat = x_hat + x_hat*(0.1)\n",
        "  lst_x_e.append(x_hat)\n",
        "  t += 0.1\n",
        "\n",
        "plt.plot(lst_t,lst_x)\n",
        "\n"
      ],
      "metadata": {
        "id": "6fijczWrR0L4"
      },
      "execution_count": null,
      "outputs": []
    },
    {
      "cell_type": "code",
      "source": [
        "# Comparision b/w analytical and numerical solution to analyse and see the error\n",
        "\n",
        "plt.plot(lst_t, lst_x, label= 'Analytical solution')\n",
        "plt.legend()\n",
        "plt.plot(lst_t_e, lst_x_e, label = 'Solution By Euler')\n",
        "plt.legend()"
      ],
      "metadata": {
        "id": "UQfZca7fbBfe"
      },
      "execution_count": null,
      "outputs": []
    },
    {
      "cell_type": "code",
      "source": [
        "# I am working on modified version of Euler method sir"
      ],
      "metadata": {
        "id": "1SK-G6a8gPur"
      },
      "execution_count": null,
      "outputs": []
    }
  ]
}