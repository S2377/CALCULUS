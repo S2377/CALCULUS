{
  "cells": [
    {
      "cell_type": "markdown",
      "metadata": {
        "id": "view-in-github",
        "colab_type": "text"
      },
      "source": [
        "<a href=\"https://colab.research.google.com/github/S2377/CALCULUS/blob/master/CASES_OF_DAMPING.ipynb\" target=\"_parent\"><img src=\"https://colab.research.google.com/assets/colab-badge.svg\" alt=\"Open In Colab\"/></a>"
      ]
    },
    {
      "cell_type": "markdown",
      "source": [
        "COMPLETE TUTORIAL ON DAMPING:-"
      ],
      "metadata": {
        "id": "d8R8XCBtfpE9"
      }
    },
    {
      "cell_type": "markdown",
      "source": [],
      "metadata": {
        "id": "4cwLXtoWf7TU"
      }
    },
    {
      "cell_type": "code",
      "execution_count": null,
      "metadata": {
        "colab": {
          "base_uri": "https://localhost:8080/"
        },
        "id": "RYeGvs3lmm8x",
        "outputId": "b4f30685-fbb3-4db6-ecd3-8ceda241304b"
      },
      "outputs": [
        {
          "name": "stdout",
          "output_type": "stream",
          "text": [
            "4\n",
            "16\n",
            "3\n",
            "10\n",
            "20\n"
          ]
        }
      ],
      "source": [
        "# Taking input from user :\n",
        "a = float(input(''))\n",
        "b = float(input(''))\n",
        "c = float(input(''))\n",
        "x_0 = float(input(''))\n",
        "v_0 = float(input('')) \n",
        "\n"
      ]
    },
    {
      "cell_type": "code",
      "source": [
        "# imported required pacakages and tools :\n",
        "import plotly.graph_objects as go\n",
        "import numpy as np\n",
        "import matplotlib.pyplot as plt\n",
        "import math"
      ],
      "metadata": {
        "id": "okZ8kboSOrGD"
      },
      "execution_count": null,
      "outputs": []
    },
    {
      "cell_type": "code",
      "execution_count": null,
      "metadata": {
        "id": "VR04J1i_yQyN"
      },
      "outputs": [],
      "source": [
        "# creating the list of t :\n",
        "t=[]\n",
        "for i in range(1001):\n",
        "  t.append(i/100)\n"
      ]
    },
    {
      "cell_type": "code",
      "execution_count": null,
      "metadata": {
        "id": "8Ry3iYMOn-19",
        "colab": {
          "base_uri": "https://localhost:8080/"
        },
        "outputId": "dbf04a8b-8d4c-4ff7-825c-99ac9479fe1c"
      },
      "outputs": [
        {
          "output_type": "stream",
          "name": "stdout",
          "text": [
            "This is over damping.\n"
          ]
        }
      ],
      "source": [
        "# case of overdamping : \n",
        "if b**2 - 4*a*c > 0 :                      # Discreminant of quadritic equation, checkig tpye of damping \n",
        "  print('This is over damping.')\n",
        "  x = []\n",
        "  for i in t:\n",
        "    lam1 = ((-b + math.sqrt(b**2-4*a*c))/2*a)   # first root of quadritic equation\n",
        "    lam2 = ((-b - math.sqrt(b**2-4*a*c))/2*a)   # second root of quadritic equation\n",
        "    d1 = (v_0 - lam2*x_0)/(lam1-lam2)\n",
        "    d2 = (v_0 - lam1*x_0)/(lam2-lam1)\n",
        "    y = d1*math.exp(lam1*i) + d2*math.exp(lam2*i)\n",
        "    x.append(y)\n",
        " "
      ]
    },
    {
      "cell_type": "code",
      "execution_count": null,
      "metadata": {
        "id": "YHS_riCWoSfe",
        "colab": {
          "base_uri": "https://localhost:8080/",
          "height": 282
        },
        "outputId": "ee21b53a-83d3-4958-d52f-7e04c79195cd"
      },
      "outputs": [
        {
          "output_type": "execute_result",
          "data": {
            "text/plain": [
              "[<matplotlib.lines.Line2D at 0x7fd06d510580>]"
            ]
          },
          "metadata": {},
          "execution_count": 12
        },
        {
          "output_type": "display_data",
          "data": {
            "text/plain": [
              "<Figure size 432x288 with 1 Axes>"
            ],
            "image/png": "[encoded data removed]"
          },
          "metadata": {
            "needs_background": "light"
          }
        }
      ],
      "source": [
        "# plotting the graph of overdamping :\n",
        "plt.plot(t,x)\n"
      ]
    },
    {
      "cell_type": "code",
      "execution_count": null,
      "metadata": {
        "colab": {
          "base_uri": "https://localhost:8080/"
        },
        "id": "LQFBs7HCosXo",
        "outputId": "bad65643-7cd4-49ad-a9d7-82eeaebe183f"
      },
      "outputs": [
        {
          "name": "stdout",
          "output_type": "stream",
          "text": [
            "1\n",
            "2\n",
            "1\n",
            "10\n",
            "20\n"
          ]
        }
      ],
      "source": [
        "# Taking input from user\n",
        "a = float(input(''))\n",
        "b = float(input(''))\n",
        "c = float(input(''))\n",
        "x_0 = float(input(''))\n",
        "v_0 = float(input('')) \n",
        "\n"
      ]
    },
    {
      "cell_type": "code",
      "execution_count": null,
      "metadata": {
        "colab": {
          "base_uri": "https://localhost:8080/"
        },
        "id": "t1ZNnT7opV_3",
        "outputId": "7586b1cc-cdba-4d7c-a1ec-fdf39e0da54b"
      },
      "outputs": [
        {
          "output_type": "stream",
          "name": "stdout",
          "text": [
            "This is critical damping.\n"
          ]
        }
      ],
      "source": [
        "# case of critical damping :\n",
        "if b**2 - 4*a*c == 0 :\n",
        "  print('This is critical damping.')\n",
        "  x = []\n",
        "  for i in t:\n",
        "    lam1 = (-b/2*a)                      # equal root of quadritic equation\n",
        "    m = v_0/lam1 \n",
        "    y = m*math.exp(lam1*i)\n",
        "    x.append(y)\n"
      ]
    },
    {
      "cell_type": "code",
      "source": [
        "# plotting the graph of critical damping :\n",
        "plt.plot(t,x)\n"
      ],
      "metadata": {
        "colab": {
          "base_uri": "https://localhost:8080/",
          "height": 282
        },
        "id": "tTFUYYAeq8eg",
        "outputId": "fdf62d90-ffc5-460e-af5f-b8fbd79696b3"
      },
      "execution_count": null,
      "outputs": [
        {
          "output_type": "execute_result",
          "data": {
            "text/plain": [
              "[<matplotlib.lines.Line2D at 0x7fd06d64c340>]"
            ]
          },
          "metadata": {},
          "execution_count": 8
        },
        {
          "output_type": "display_data",
          "data": {
            "text/plain": [
              "<Figure size 432x288 with 1 Axes>"
            ],
            "image/png": "[encoded data removed]"
          },
          "metadata": {
            "needs_background": "light"
          }
        }
      ]
    },
    {
      "cell_type": "code",
      "source": [
        "# Taking input from user\n",
        "a = float(input(''))\n",
        "b = float(input(''))\n",
        "c = float(input(''))\n",
        "x_0 = float(input(''))\n",
        "v_0 = float(input('')) \n",
        "\n"
      ],
      "metadata": {
        "colab": {
          "base_uri": "https://localhost:8080/"
        },
        "id": "bEMZyppsq-oY",
        "outputId": "569e3d1d-37be-4dad-b746-045199c0b076"
      },
      "execution_count": null,
      "outputs": [
        {
          "name": "stdout",
          "output_type": "stream",
          "text": [
            "2\n",
            "2\n",
            "4\n",
            "1\n",
            "1\n"
          ]
        }
      ]
    },
    {
      "cell_type": "code",
      "execution_count": null,
      "metadata": {
        "id": "v8nqja2Hr-WQ",
        "colab": {
          "base_uri": "https://localhost:8080/"
        },
        "outputId": "5448fbac-e721-43b4-d735-ac309be9a88a"
      },
      "outputs": [
        {
          "output_type": "stream",
          "name": "stdout",
          "text": [
            "This is under damping.\n"
          ]
        }
      ],
      "source": [
        "# cases of under damping :\n",
        "if b**2 - 4*a*c < 0 :\n",
        "  print('This is under damping.')\n",
        "  x = []\n",
        "  for i in t:\n",
        "    alpha = -b/2*a\n",
        "    beta = math.sqrt(abs((b**2/4*a**2)-(c/a)))\n",
        "    m = math.exp(alpha*i)*(math.cos(beta*i)*x_0 + math.sin(beta*i)*((v_0 + x_0*alpha)/beta))\n",
        "    x.append(m)"
      ]
    },
    {
      "cell_type": "code",
      "execution_count": null,
      "metadata": {
        "id": "mtDsE_yX05LM",
        "colab": {
          "base_uri": "https://localhost:8080/",
          "height": 282
        },
        "outputId": "4458e9e9-d6df-40de-b6e1-5dbbcc7647a5"
      },
      "outputs": [
        {
          "output_type": "execute_result",
          "data": {
            "text/plain": [
              "[<matplotlib.lines.Line2D at 0x7fd06d48f250>]"
            ]
          },
          "metadata": {},
          "execution_count": 15
        },
        {
          "output_type": "display_data",
          "data": {
            "text/plain": [
              "<Figure size 432x288 with 1 Axes>"
            ],
            "image/png": "[encoded data removed]"
          },
          "metadata": {
            "needs_background": "light"
          }
        }
      ],
      "source": [
        "# plotting the graph of under damping :\n",
        "plt.plot(t,x)\n"
      ]
    }
  ],
  "metadata": {
    "colab": {
      "provenance": [],
      "authorship_tag": "ABX9TyNF7dzL8ZEUsnoOystOp9kl",
      "include_colab_link": true
    },
    "kernelspec": {
      "display_name": "Python 3",
      "name": "python3"
    },
    "language_info": {
      "name": "python"
    }
  },
  "nbformat": 4,
  "nbformat_minor": 0
}