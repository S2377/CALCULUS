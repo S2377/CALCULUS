{
  "nbformat": 4,
  "nbformat_minor": 0,
  "metadata": {
    "colab": {
      "provenance": [],
      "authorship_tag": "ABX9TyOG6qSM9kZN0msMmHfx8icl",
      "include_colab_link": true
    },
    "kernelspec": {
      "name": "python3",
      "display_name": "Python 3"
    },
    "language_info": {
      "name": "python"
    }
  },
  "cells": [
    {
      "cell_type": "markdown",
      "metadata": {
        "id": "view-in-github",
        "colab_type": "text"
      },
      "source": [
        "<a href=\"https://colab.research.google.com/github/S2377/CALCULUS/blob/master/LINEAR_REGRESSION_TUTORIAL.ipynb\" target=\"_parent\"><img src=\"https://colab.research.google.com/assets/colab-badge.svg\" alt=\"Open In Colab\"/></a>"
      ]
    },
    {
      "cell_type": "markdown",
      "source": [
        "COMPLETE TUTORIAL ON LINEAR REGRESSION:-"
      ],
      "metadata": {
        "id": "OmxnMwp7gyhI"
      }
    },
    {
      "cell_type": "markdown",
      "source": [
        "# `Linear Regression`\n",
        "$$ y_i = mx_i + c + ϵ_i$$ \n",
        "ϵ exists for  error measurment\n",
        "$$ SE = \\sum(y_i - mx_i - c)^2 $$\n",
        "SE = Summation of errors, now we will find m and c such that SE is minimized\n",
        "$$ \\frac{\\partial SE}{\\partial m} = 0 $$  \n",
        " $$\\frac{\\partial SE}{\\partial m} = 0 $$  \n",
        "By solving these equation m and c are \n",
        "$$ m = \\frac{n∑ x_iy_i + ∑x_i∑y_i}{-∑x_i∑x_i + n∑x^2_i} $$.\n",
        "$$ c = \\frac{∑ x_iy_i∑x_i - ∑y_i∑x^2_i}{∑x_i∑x_i - n∑x^2_i} $$"
      ],
      "metadata": {
        "id": "HV0qS_eBsPzU"
      }
    },
    {
      "cell_type": "code",
      "execution_count": null,
      "metadata": {
        "id": "ztTWWq1hfbD4"
      },
      "outputs": [],
      "source": [
        "# SIMPLE LINEAR REGRESSION :\n",
        "m = 10\n",
        "c = 20\n"
      ]
    },
    {
      "cell_type": "code",
      "source": [
        "# all imported pacakages and tools for requirement :\n",
        "import plotly.graph_objects as go\n",
        "import numpy as np\n",
        "import matplotlib.pyplot as plt\n",
        "import random\n",
        "import math"
      ],
      "metadata": {
        "id": "rXOhIAhua_EJ"
      },
      "execution_count": null,
      "outputs": []
    },
    {
      "cell_type": "code",
      "source": [
        "# creating x_i list :\n",
        "\n",
        "x_i = []\n",
        "epsi = []\n",
        "for i in range(100):\n",
        "  x_i.append(i)\n",
        "  random_num = random.random()\n",
        "  epsi.append(random_num-0.5)     # to centered at 0\n"
      ],
      "metadata": {
        "id": "L6HwJ0WRg36I"
      },
      "execution_count": null,
      "outputs": []
    },
    {
      "cell_type": "code",
      "source": [
        "# creating y_i list :\n",
        "y_i = []\n",
        "for i in range(len(x_i)):\n",
        "  y1 = m*x_i[i] + c + 100*epsi[i]\n",
        "  y_i.append(y1)"
      ],
      "metadata": {
        "id": "REo_-e41hdVC"
      },
      "execution_count": null,
      "outputs": []
    },
    {
      "cell_type": "code",
      "source": [
        "# command for drawing the graph :\n",
        "plt.scatter(x_i,y_i)\n"
      ],
      "metadata": {
        "colab": {
          "base_uri": "https://localhost:8080/",
          "height": 282
        },
        "id": "HpbPOkIAj9x5",
        "outputId": "4733cfa5-1d08-40e7-93c1-fbd08b61eeee"
      },
      "execution_count": null,
      "outputs": [
        {
          "output_type": "execute_result",
          "data": {
            "text/plain": [
              "<matplotlib.collections.PathCollection at 0x7f1d4b2fdc70>"
            ]
          },
          "metadata": {},
          "execution_count": 54
        },
        {
          "output_type": "display_data",
          "data": {
            "text/plain": [
              "<Figure size 432x288 with 1 Axes>"
            ],
            "image/png": "[encoded data removed]"
          },
          "metadata": {
            "needs_background": "light"
          }
        }
      ]
    },
    {
      "cell_type": "code",
      "source": [
        "# creating the   x_sqr_lst, xy_lst :\n",
        "\n",
        "x_sqr_lst = []\n",
        "for i in x_i:\n",
        "  x_sqr_lst.append(i**2)\n",
        "\n",
        "xy_lst = []\n",
        "for i in range(100):\n",
        "  xy_lst.append(x_i[i]*y_i[i])\n",
        "\n"
      ],
      "metadata": {
        "id": "qPadE-PZ5Q9A"
      },
      "execution_count": null,
      "outputs": []
    },
    {
      "cell_type": "code",
      "source": [
        "# calculating the average of above created list :\n",
        "xy_avg = sum(xy_lst)/len(xy_lst)\n",
        "x_avg = sum(x_i)/len(x_i)\n",
        "x_sqr_avg = sum(x_sqr_lst)/len(x_sqr_lst)\n",
        "y_avg = sum(y_i)/len(y_i)\n"
      ],
      "metadata": {
        "id": "IjY3lyZtFCxH"
      },
      "execution_count": null,
      "outputs": []
    },
    {
      "cell_type": "code",
      "source": [
        "# calculating the value of m, c : \n",
        "m = (xy_avg - x_avg*y_avg)/(x_sqr_avg - (x_avg)**2)\n",
        "c = y_avg - m*x_avg"
      ],
      "metadata": {
        "id": "h1GAMR28FRu2"
      },
      "execution_count": null,
      "outputs": []
    },
    {
      "cell_type": "code",
      "source": [
        "# creating y_new list :\n",
        "y_new = []\n",
        "for i in range(100):\n",
        "  y1 = m*x_i[i] + c\n",
        "  y_new.append(y1)\n"
      ],
      "metadata": {
        "id": "5e625SIq4gpe"
      },
      "execution_count": null,
      "outputs": []
    },
    {
      "cell_type": "code",
      "source": [
        "# command for drawing the graph without error  :\n",
        "plt.plot(x_i,y_new)\n"
      ],
      "metadata": {
        "colab": {
          "base_uri": "https://localhost:8080/",
          "height": 282
        },
        "id": "F4YZAsKsyHEA",
        "outputId": "5b8e4b6e-62b3-48b4-b3e6-48fd393f0de5"
      },
      "execution_count": null,
      "outputs": [
        {
          "output_type": "execute_result",
          "data": {
            "text/plain": [
              "[<matplotlib.lines.Line2D at 0x7f1d4b736820>]"
            ]
          },
          "metadata": {},
          "execution_count": 59
        },
        {
          "output_type": "display_data",
          "data": {
            "text/plain": [
              "<Figure size 432x288 with 1 Axes>"
            ],
            "image/png": "[encoded data removed]"
          },
          "metadata": {
            "needs_background": "light"
          }
        }
      ]
    },
    {
      "cell_type": "code",
      "source": [
        "# command for drawing graph together and make virtual comparision :\n",
        "plt.plot(x_i, y_i, label =  '  with error ')\n",
        "plt.plot(x_i, y_new, label =  ' without error ')\n",
        "plt.legend()\n",
        "plt.show()\n"
      ],
      "metadata": {
        "colab": {
          "base_uri": "https://localhost:8080/",
          "height": 265
        },
        "id": "HMJzudIx_XhB",
        "outputId": "368c70a4-98a8-45e3-81e0-b9d9009fadf4"
      },
      "execution_count": null,
      "outputs": [
        {
          "output_type": "display_data",
          "data": {
            "text/plain": [
              "<Figure size 432x288 with 1 Axes>"
            ],
            "image/png": "[encoded data removed]"
          },
          "metadata": {
            "needs_background": "light"
          }
        }
      ]
    },
    {
      "cell_type": "code",
      "source": [
        "# linear regression for exponentional \n",
        "x_list = []\n",
        "epsilon = []\n",
        "for i in range(100):\n",
        "  x_list.append(i)\n",
        "  random_num = random.random()\n",
        "  epsilon.append(random_num-0.05)     # to centered at 0\n",
        "\n"
      ],
      "metadata": {
        "id": "bIe37vPdAti1"
      },
      "execution_count": null,
      "outputs": []
    },
    {
      "cell_type": "code",
      "source": [
        "# \n",
        "beta = 20\n",
        "alpha = 0.1\n",
        "y_list = []\n",
        "for i in range(100):\n",
        "  y_i = beta*math.exp(alpha*x_list[i]+epsilon[i])\n",
        "  y_list.append(y_i)\n",
        "  "
      ],
      "metadata": {
        "id": "I74iLh9TCTBV"
      },
      "execution_count": null,
      "outputs": []
    },
    {
      "cell_type": "code",
      "source": [
        "# command for drawing the graph with error :\n",
        "plt.plot(x_list,y_list)\n"
      ],
      "metadata": {
        "colab": {
          "base_uri": "https://localhost:8080/",
          "height": 282
        },
        "id": "a_cSHfIZDllh",
        "outputId": "9a123b02-d19b-4fe7-9e95-d39a518e1fcb"
      },
      "execution_count": null,
      "outputs": [
        {
          "output_type": "execute_result",
          "data": {
            "text/plain": [
              "[<matplotlib.lines.Line2D at 0x7f1d4b144100>]"
            ]
          },
          "metadata": {},
          "execution_count": 64
        },
        {
          "output_type": "display_data",
          "data": {
            "text/plain": [
              "<Figure size 432x288 with 1 Axes>"
            ],
            "image/png": "[encoded data removed]"
          },
          "metadata": {
            "needs_background": "light"
          }
        }
      ]
    },
    {
      "cell_type": "code",
      "source": [
        "# creating the z_lst,  x_sqr_lst,   xz_lst\n",
        "z_lst = []\n",
        "for i in y_list:\n",
        "  z_lst.append(math.log(i))\n",
        "\n",
        "x_sqr_lst = []\n",
        "for i in x_list:\n",
        "  x_sqr_lst.append(i**2)\n",
        "\n",
        "xz_lst = []\n",
        "for i in range(100):\n",
        "  xz_lst.append(z_lst[i]*x_list[i])\n",
        "\n"
      ],
      "metadata": {
        "id": "-zyhNFIKKdUo"
      },
      "execution_count": null,
      "outputs": []
    },
    {
      "cell_type": "code",
      "source": [
        "# calculating the average of above created list\n",
        "xz_avg = sum(xz_lst)/len(xz_lst)\n",
        "x_avg = sum(x_list)/len(x_list)\n",
        "x_sqr_avg = sum(x_sqr_lst)/len(x_sqr_lst)\n",
        "z_avg = sum(z_lst)/len(z_lst)\n",
        "\n"
      ],
      "metadata": {
        "id": "YOcJTcBQ4syD"
      },
      "execution_count": null,
      "outputs": []
    },
    {
      "cell_type": "code",
      "source": [
        "# calculating the value of m, c, beta, gamma \n",
        "m = (xz_avg - x_avg*z_avg)/(x_sqr_avg - (x_avg)**2)\n",
        "c = z_avg - m*x_avg\n",
        "beta = math.exp(c)\n",
        "gamma = m\n"
      ],
      "metadata": {
        "id": "rcy1YPZ_8-WN"
      },
      "execution_count": null,
      "outputs": []
    },
    {
      "cell_type": "code",
      "source": [
        "# creating y_new_lst :\n",
        "y_new_lst = []\n",
        "for i in x_list:\n",
        "  y_new_lst.append(beta*math.exp(gamma*x_list[i]))"
      ],
      "metadata": {
        "id": "IqA590cO-QGQ"
      },
      "execution_count": null,
      "outputs": []
    },
    {
      "cell_type": "code",
      "source": [
        "# command for drawing graph together and make virtual comparision\n",
        "plt.plot(x_list, y_list, label =  '  with error ')\n",
        "plt.plot(x_list, y_new_lst, label =  ' without error ')\n",
        "plt.legend()\n",
        "plt.show()"
      ],
      "metadata": {
        "colab": {
          "base_uri": "https://localhost:8080/",
          "height": 265
        },
        "id": "7mRd7FZLBkxa",
        "outputId": "18e96b5c-989b-4b44-f002-3dda539d3f9e"
      },
      "execution_count": null,
      "outputs": [
        {
          "output_type": "display_data",
          "data": {
            "text/plain": [
              "<Figure size 432x288 with 1 Axes>"
            ],
            "image/png": "[encoded data removed]"
          },
          "metadata": {
            "needs_background": "light"
          }
        }
      ]
    },
    {
      "cell_type": "code",
      "source": [
        "# sir i am working on linear regression for multi-variable"
      ],
      "metadata": {
        "id": "9lJh59MDgz9j"
      },
      "execution_count": null,
      "outputs": []
    }
  ]
}