{
  "cells": [
    {
      "cell_type": "markdown",
      "metadata": {
        "id": "view-in-github",
        "colab_type": "text"
      },
      "source": [
        "<a href=\"https://colab.research.google.com/github/S2377/CALCULUS/blob/master/Cases_of_damping.ipynb\" target=\"_parent\"><img src=\"https://colab.research.google.com/assets/colab-badge.svg\" alt=\"Open In Colab\"/></a>"
      ]
    },
    {
      "cell_type": "code",
      "execution_count": 53,
      "metadata": {
        "colab": {
          "base_uri": "https://localhost:8080/"
        },
        "id": "RYeGvs3lmm8x",
        "outputId": "6a5822e3-891a-4777-ca57-22651ac9162c"
      },
      "outputs": [
        {
          "name": "stdout",
          "output_type": "stream",
          "text": [
            "3\n",
            "5\n",
            "1\n",
            "2\n",
            "1\n"
          ]
        }
      ],
      "source": [
        "1# Taking input from user\n",
        "a = float(input(''))\n",
        "b = float(input(''))\n",
        "c = float(input(''))\n",
        "x_0 = float(input(''))\n",
        "v_0 = float(input('')) \n",
        "\n"
      ]
    },
    {
      "cell_type": "code",
      "execution_count": 54,
      "metadata": {
        "id": "VR04J1i_yQyN"
      },
      "outputs": [],
      "source": [
        "t=[]\n",
        "for i in range(1001):\n",
        "  t.append(i/100)\n"
      ]
    },
    {
      "cell_type": "code",
      "execution_count": 55,
      "metadata": {
        "id": "8Ry3iYMOn-19",
        "colab": {
          "base_uri": "https://localhost:8080/"
        },
        "outputId": "b358344b-e0f2-44f3-c100-42318687ce82"
      },
      "outputs": [
        {
          "output_type": "stream",
          "name": "stdout",
          "text": [
            "This is over damping.\n"
          ]
        }
      ],
      "source": [
        "import math\n",
        "# checkig tpye of damping \n",
        "if b**2 - 4*a*c > 0 :                      # Discreminant of quadritic equation\n",
        "  print('This is over damping.')\n",
        "  x = []\n",
        "  for i in t:\n",
        "    lam1 = ((-b + math.sqrt(b**2-4*a*c))/2*a)   # first root of quadritic equation\n",
        "    lam2 = ((-b - math.sqrt(b**2-4*a*c))/2*a)   # second root of quadritic equation\n",
        "    d1 = (v_0 - lam2*x_0)/(lam1-lam2)\n",
        "    d2 = (v_0 - lam1*x_0)/(lam2-lam1)\n",
        "    y = d1*math.exp(lam1*i) + d2*math.exp(lam2*i)\n",
        "    x.append(y)\n",
        " "
      ]
    },
    {
      "cell_type": "code",
      "execution_count": 57,
      "metadata": {
        "id": "YHS_riCWoSfe",
        "colab": {
          "base_uri": "https://localhost:8080/",
          "height": 282
        },
        "outputId": "68145ee5-f53c-426e-c65c-efcc15334410"
      },
      "outputs": [
        {
          "output_type": "execute_result",
          "data": {
            "text/plain": [
              "[<matplotlib.lines.Line2D at 0x7f7fa0d582e0>]"
            ]
          },
          "metadata": {},
          "execution_count": 57
        },
        {
          "output_type": "display_data",
          "data": {
            "text/plain": [
              "<Figure size 432x288 with 1 Axes>"
            ],
            "image/png": "[encoded data removed]"
          },
          "metadata": {
            "needs_background": "light"
          }
        }
      ],
      "source": [
        "import plotly.graph_objects as go\n",
        "import numpy as np\n",
        "import matplotlib.pyplot as plt\n",
        "plt.plot(t,x)\n"
      ]
    },
    {
      "cell_type": "code",
      "execution_count": 65,
      "metadata": {
        "colab": {
          "base_uri": "https://localhost:8080/"
        },
        "id": "LQFBs7HCosXo",
        "outputId": "b6d9bdca-4405-433c-827d-cd59b7f097e8"
      },
      "outputs": [
        {
          "name": "stdout",
          "output_type": "stream",
          "text": [
            "1\n",
            "2\n",
            "1\n",
            "2\n",
            "1\n"
          ]
        }
      ],
      "source": [
        "# Taking input from user\n",
        "a = float(input(''))\n",
        "b = float(input(''))\n",
        "c = float(input(''))\n",
        "x_0 = float(input(''))\n",
        "v_0 = float(input('')) \n",
        "\n"
      ]
    },
    {
      "cell_type": "code",
      "execution_count": 67,
      "metadata": {
        "colab": {
          "base_uri": "https://localhost:8080/"
        },
        "id": "t1ZNnT7opV_3",
        "outputId": "c906464e-92b9-4623-c4c9-2b8122dee6b8"
      },
      "outputs": [
        {
          "output_type": "stream",
          "name": "stdout",
          "text": [
            "This is critical damping.\n"
          ]
        }
      ],
      "source": [
        "if b**2 - 4*a*c == 0 :\n",
        "  print('This is critical damping.')\n",
        "  x = []\n",
        "  for i in t:\n",
        "    lam1 = (-b/2*a)                      # equal root of quadritic equation\n",
        "    m = v_0/lam1 \n",
        "    y = m*math.exp(lam1*i)\n",
        "    x.append(y)\n"
      ]
    },
    {
      "cell_type": "code",
      "source": [
        "import plotly.graph_objects as go\n",
        "import numpy as np\n",
        "import matplotlib.pyplot as plt\n",
        "plt.plot(t,x)\n"
      ],
      "metadata": {
        "colab": {
          "base_uri": "https://localhost:8080/",
          "height": 282
        },
        "id": "tTFUYYAeq8eg",
        "outputId": "2ecd46a5-e615-4e9f-9b12-32d47385a91f"
      },
      "execution_count": 68,
      "outputs": [
        {
          "output_type": "execute_result",
          "data": {
            "text/plain": [
              "[<matplotlib.lines.Line2D at 0x7f7fa0c23640>]"
            ]
          },
          "metadata": {},
          "execution_count": 68
        },
        {
          "output_type": "display_data",
          "data": {
            "text/plain": [
              "<Figure size 432x288 with 1 Axes>"
            ],
            "image/png": "[encoded data removed]"
          },
          "metadata": {
            "needs_background": "light"
          }
        }
      ]
    },
    {
      "cell_type": "code",
      "source": [
        "# Taking input from user\n",
        "a = float(input(''))\n",
        "b = float(input(''))\n",
        "c = float(input(''))\n",
        "x_0 = float(input(''))\n",
        "v_0 = float(input('')) \n",
        "\n"
      ],
      "metadata": {
        "colab": {
          "base_uri": "https://localhost:8080/"
        },
        "id": "bEMZyppsq-oY",
        "outputId": "9eb49c5f-7a95-4eff-e858-4393929ac639"
      },
      "execution_count": 69,
      "outputs": [
        {
          "name": "stdout",
          "output_type": "stream",
          "text": [
            "5\n",
            "2\n",
            "4\n",
            "1\n",
            "2\n"
          ]
        }
      ]
    },
    {
      "cell_type": "code",
      "execution_count": 70,
      "metadata": {
        "id": "v8nqja2Hr-WQ",
        "colab": {
          "base_uri": "https://localhost:8080/"
        },
        "outputId": "320a3216-3756-45ce-fa6f-f8ae19ea8786"
      },
      "outputs": [
        {
          "output_type": "stream",
          "name": "stdout",
          "text": [
            "This is under damping.\n"
          ]
        }
      ],
      "source": [
        "if b**2 - 4*a*c < 0 :\n",
        "  print('This is under damping.')\n",
        "  x = []\n",
        "  for i in t:\n",
        "    alpha = -b/2*a\n",
        "    beta = math.sqrt(abs((b**2/4*a**2)-(c/a)))\n",
        "    m = math.exp(alpha*i)*(math.cos(beta*i)*x_0 + math.sin(beta*i)*((v_0 + x_0*alpha)/beta))\n",
        "    x.append(m)"
      ]
    },
    {
      "cell_type": "code",
      "execution_count": 71,
      "metadata": {
        "id": "mtDsE_yX05LM",
        "colab": {
          "base_uri": "https://localhost:8080/",
          "height": 282
        },
        "outputId": "fe22fdda-a9ef-4ea6-9615-9c543557b4f3"
      },
      "outputs": [
        {
          "output_type": "execute_result",
          "data": {
            "text/plain": [
              "[<matplotlib.lines.Line2D at 0x7f7fa0b8d520>]"
            ]
          },
          "metadata": {},
          "execution_count": 71
        },
        {
          "output_type": "display_data",
          "data": {
            "text/plain": [
              "<Figure size 432x288 with 1 Axes>"
            ],
            "image/png": "[encoded data removed]"
          },
          "metadata": {
            "needs_background": "light"
          }
        }
      ],
      "source": [
        "import plotly.express as px\n",
        "import math\n",
        "#fig = px.line(x=t,y= x)\n",
        "#fig.show()\n",
        "import plotly.graph_objects as go\n",
        "import numpy as np\n",
        "import matplotlib.pyplot as plt\n",
        "plt.plot(t,x)\n"
      ]
    }
  ],
  "metadata": {
    "colab": {
      "provenance": [],
      "authorship_tag": "ABX9TyMMdrz2hFjy4+N7pja8SZ2M",
      "include_colab_link": true
    },
    "kernelspec": {
      "display_name": "Python 3",
      "name": "python3"
    },
    "language_info": {
      "name": "python"
    }
  },
  "nbformat": 4,
  "nbformat_minor": 0
}